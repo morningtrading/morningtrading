{
  "nbformat": 4,
  "nbformat_minor": 0,
  "metadata": {
    "colab": {
      "provenance": [],
      "authorship_tag": "ABX9TyNS9UJhRG9AAhkii5+QCT57",
      "include_colab_link": true
    },
    "kernelspec": {
      "name": "python3",
      "display_name": "Python 3"
    },
    "language_info": {
      "name": "python"
    }
  },
  "cells": [
    {
      "cell_type": "markdown",
      "metadata": {
        "id": "view-in-github",
        "colab_type": "text"
      },
      "source": [
        "<a href=\"https://colab.research.google.com/github/morningtrading/morningtrading/blob/main/2025test1.ipynb\" target=\"_parent\"><img src=\"https://colab.research.google.com/assets/colab-badge.svg\" alt=\"Open In Colab\"/></a>"
      ]
    },
    {
      "cell_type": "code",
      "execution_count": 4,
      "metadata": {
        "colab": {
          "base_uri": "https://localhost:8080/"
        },
        "id": "ot2dPWsz_MTL",
        "outputId": "259778fc-fa05-4b2b-c13d-711c14d75d06"
      },
      "outputs": [
        {
          "output_type": "stream",
          "name": "stdout",
          "text": [
            "Requirement already satisfied: pandas in /usr/local/lib/python3.11/dist-packages (2.2.2)\n",
            "Requirement already satisfied: numpy>=1.23.2 in /usr/local/lib/python3.11/dist-packages (from pandas) (1.26.4)\n",
            "Requirement already satisfied: python-dateutil>=2.8.2 in /usr/local/lib/python3.11/dist-packages (from pandas) (2.8.2)\n",
            "Requirement already satisfied: pytz>=2020.1 in /usr/local/lib/python3.11/dist-packages (from pandas) (2025.1)\n",
            "Requirement already satisfied: tzdata>=2022.7 in /usr/local/lib/python3.11/dist-packages (from pandas) (2025.1)\n",
            "Requirement already satisfied: six>=1.5 in /usr/local/lib/python3.11/dist-packages (from python-dateutil>=2.8.2->pandas) (1.17.0)\n",
            "\u001b[31mERROR: Could not find a version that satisfies the requirement MetaTrader5 (from versions: none)\u001b[0m\u001b[31m\n",
            "\u001b[0m\u001b[31mERROR: No matching distribution found for MetaTrader5\u001b[0m\u001b[31m\n",
            "\u001b[0m"
          ]
        }
      ],
      "source": [
        "!pip install pandas\n",
        "!pip install MetaTrader5"
      ]
    },
    {
      "source": [
        "!pip install git+https://github.com/MetaQuotesSoftware/MetaTrader5-Python-API.git # Install from GitHub"
      ],
      "cell_type": "code",
      "metadata": {
        "colab": {
          "base_uri": "https://localhost:8080/"
        },
        "id": "nDZf_rpRly40",
        "outputId": "11a46db7-c6d2-414c-cb78-e627b44132a6"
      },
      "execution_count": 5,
      "outputs": [
        {
          "output_type": "stream",
          "name": "stdout",
          "text": [
            "Collecting git+https://github.com/MetaQuotesSoftware/MetaTrader5-Python-API.git\n",
            "  Cloning https://github.com/MetaQuotesSoftware/MetaTrader5-Python-API.git to /tmp/pip-req-build-r5qe3872\n",
            "  Running command git clone --filter=blob:none --quiet https://github.com/MetaQuotesSoftware/MetaTrader5-Python-API.git /tmp/pip-req-build-r5qe3872\n",
            "  fatal: could not read Username for 'https://github.com': No such device or address\n",
            "  \u001b[1;31merror\u001b[0m: \u001b[1msubprocess-exited-with-error\u001b[0m\n",
            "  \n",
            "  \u001b[31m×\u001b[0m \u001b[32mgit clone --\u001b[0m\u001b[32mfilter\u001b[0m\u001b[32m=\u001b[0m\u001b[32mblob\u001b[0m\u001b[32m:none --quiet \u001b[0m\u001b[4;32mhttps://github.com/MetaQuotesSoftware/MetaTrader5-Python-API.git\u001b[0m\u001b[32m \u001b[0m\u001b[32m/tmp/\u001b[0m\u001b[32mpip-req-build-r5qe3872\u001b[0m did not run successfully.\n",
            "  \u001b[31m│\u001b[0m exit code: \u001b[1;36m128\u001b[0m\n",
            "  \u001b[31m╰─>\u001b[0m See above for output.\n",
            "  \n",
            "  \u001b[1;35mnote\u001b[0m: This error originates from a subprocess, and is likely not a problem with pip.\n",
            "\u001b[1;31merror\u001b[0m: \u001b[1msubprocess-exited-with-error\u001b[0m\n",
            "\n",
            "\u001b[31m×\u001b[0m \u001b[32mgit clone --\u001b[0m\u001b[32mfilter\u001b[0m\u001b[32m=\u001b[0m\u001b[32mblob\u001b[0m\u001b[32m:none --quiet \u001b[0m\u001b[4;32mhttps://github.com/MetaQuotesSoftware/MetaTrader5-Python-API.git\u001b[0m\u001b[32m \u001b[0m\u001b[32m/tmp/\u001b[0m\u001b[32mpip-req-build-r5qe3872\u001b[0m did not run successfully.\n",
            "\u001b[31m│\u001b[0m exit code: \u001b[1;36m128\u001b[0m\n",
            "\u001b[31m╰─>\u001b[0m See above for output.\n",
            "\n",
            "\u001b[1;35mnote\u001b[0m: This error originates from a subprocess, and is likely not a problem with pip.\n"
          ]
        }
      ]
    },
    {
      "cell_type": "markdown",
      "source": [],
      "metadata": {
        "id": "PCrYkqETdokJ"
      }
    },
    {
      "source": [
        "import metaTrader as mt5\n",
        "import pandas as pd\n",
        "\n",
        "\n",
        "# function to send a market order\n",
        "def send_market_order(symbol, volume, order_type, sl=0.0, tp=0.0,\n",
        "                      deviation=20, comment='', magic=0, type_filling=mt5.ORDER_FILLING_IOC):\n",
        "    tick = mt5.symbol_info_tick(symbol)\n",
        "\n",
        "    order_dict = {'buy': 0, 'sell': 1}\n",
        "    price_dict = {'buy': tick.ask, 'sell': tick.bid}\n",
        "\n",
        "    request = {\n",
        "        \"action\": mt5.TRADE_ACTION_DEAL,\n",
        "        \"symbol\": symbol,\n",
        "        \"volume\": volume,\n",
        "        \"type\": order_dict[order_type],\n",
        "        \"price\": price_dict[order_type],\n",
        "        \"sl\": sl,\n",
        "        \"tp\": tp,\n",
        "        \"deviation\": deviation,\n",
        "        \"magic\": magic,\n",
        "        \"comment\": comment,\n",
        "        \"type_time\": mt5.ORDER_TIME_GTC,\n",
        "        \"type_filling\": type_filling,\n",
        "    }\n",
        "\n",
        "    order_result = mt5.order_send(request)\n",
        "\n",
        "    return order_result\n",
        "\n",
        "\n",
        "def close_position(position, deviation=20, magic=0, comment='', type_filling=mt5.ORDER_FILLING_IOC):\n",
        "    order_type_dict = {\n",
        "        0: mt5.ORDER_TYPE_SELL,\n",
        "        1: mt5.ORDER_TYPE_BUY\n",
        "    }\n",
        "\n",
        "    price_dict = {\n",
        "        0: mt5.symbol_info_tick(position['symbol']).bid,\n",
        "        1: mt5.symbol_info_tick(position['symbol']).ask\n",
        "    }\n",
        "\n",
        "    request = {\n",
        "        \"action\": mt5.TRADE_ACTION_DEAL,\n",
        "        \"position\": position['ticket'],  # select the position you want to close\n",
        "        \"symbol\": position['symbol'],\n",
        "        \"volume\": position['volume'],  # FLOAT\n",
        "        \"type\": order_type_dict[position['type']],\n",
        "        \"price\": price_dict[position['type']],\n",
        "        \"deviation\": deviation,  # INTERGER\n",
        "        \"magic\": magic,  # INTERGER\n",
        "        \"comment\": comment,\n",
        "        \"type_time\": mt5.ORDER_TIME_GTC,\n",
        "        \"type_filling\": type_filling,\n",
        "    }\n",
        "\n",
        "    print(request)\n",
        "\n",
        "    order_result = mt5.order_send(request)\n",
        "    return (order_result)\n",
        "\n",
        "\n",
        "def close_all_positions(order_type, magic=None, type_filling=mt5.ORDER_FILLING_IOC):\n",
        "    order_type_dict = {\n",
        "        'buy': 0,\n",
        "        'sell': 1\n",
        "    }\n",
        "\n",
        "    if mt5.positions_total() > 0:\n",
        "        positions = mt5.positions_get()\n",
        "\n",
        "        positions_df = pd.DataFrame(positions, columns=positions[0]._asdict().keys())\n",
        "\n",
        "        # filtering by magic if specified\n",
        "        if magic:\n",
        "            positions_df = positions_df[positions_df['magic'] == magic]\n",
        "\n",
        "        if order_type != 'all':\n",
        "            positions_df = positions_df[(positions_df['type'] == order_type_dict[order_type])]\n",
        "\n",
        "        if positions_df.empty:\n",
        "            print('No open positions')\n",
        "            return []\n",
        "\n",
        "        results = []\n",
        "        for i, position in positions_df.iterrows():\n",
        "            order_result = close_position(position, type_filling=type_filling)\n",
        "            print('order_result: ', order_result)\n",
        "            results.append(order_result)\n",
        "\n",
        "        return 1\n",
        "\n",
        "\n",
        "def modify_sl_tp(ticket, stop_loss, take_profit):\n",
        "    # modify SL/TP\n",
        "\n",
        "    stop_loss = float(stop_loss)\n",
        "    take_profit = float(take_profit)\n",
        "\n",
        "\n",
        "    request = {\n",
        "        'action': mt5.TRADE_ACTION_SLTP,\n",
        "        'position': ticket,\n",
        "        'sl': stop_loss,\n",
        "        'tp': take_profit\n",
        "    }\n",
        "\n",
        "    res = mt5.order_send(request)\n",
        "    return res\n",
        "\n",
        "\n",
        "def get_positions(magic=None):\n",
        "    if mt5.positions_total():\n",
        "        positions = mt5.positions_get()\n",
        "        positions_df = pd.DataFrame(positions, columns=positions[0]._asdict().keys())\n",
        "\n",
        "        if magic:\n",
        "            positions_df = positions_df[positions_df['magic'] == magic]\n",
        "\n",
        "        return positions_df\n",
        "\n",
        "    else:\n",
        "        return pd.DataFrame(columns=['ticket', 'time', 'time_msc', 'time_update', 'time_update_msc', 'type',\n",
        "                                     'magic', 'identifier', 'reason', 'volume', 'price_open', 'sl', 'tp',\n",
        "                                     'price_current', 'swap', 'profit', 'symbol', 'comment', 'external_id'])\n",
        "\n",
        "\n",
        "# Extract Data and Visualization\n",
        "def get_ohlc_history(symbol, timeframe, date_from, date_to):\n",
        "    ohlc = mt5.copy_rates_range(symbol, timeframe, date_from, date_to)\n",
        "\n",
        "    ohlc_df = pd.DataFrame(ohlc)\n",
        "    ohlc_df['time'] = pd.to_datetime(ohlc_df['time'], unit='s')\n",
        "    return ohlc_df[['time', 'open', 'high', 'low', 'close']]\n",
        "\n",
        "def get_tick_history(symbol, start, end):\n",
        "    ticks = mt5.copy_ticks_range(symbol, start, end, mt5.COPY_TICKS_ALL)\n",
        "    ticks_df = pd.DataFrame(ticks)\n",
        "    ticks_df['time'] = pd.to_datetime(ticks_df['time'], unit='s')\n",
        "    ticks_df = ticks_df[['time', 'bid', 'ask']]\n",
        "    return ticks_df"
      ],
      "cell_type": "code",
      "metadata": {
        "colab": {
          "base_uri": "https://localhost:8080/",
          "height": 384
        },
        "id": "fSPj6uJVANbR",
        "outputId": "52349c4a-4c5c-4fcc-82e5-11061acb7329"
      },
      "execution_count": 3,
      "outputs": [
        {
          "output_type": "error",
          "ename": "ModuleNotFoundError",
          "evalue": "No module named 'metaTrader'",
          "traceback": [
            "\u001b[0;31m---------------------------------------------------------------------------\u001b[0m",
            "\u001b[0;31mModuleNotFoundError\u001b[0m                       Traceback (most recent call last)",
            "\u001b[0;32m<ipython-input-3-c257b56b8eb2>\u001b[0m in \u001b[0;36m<cell line: 0>\u001b[0;34m()\u001b[0m\n\u001b[0;32m----> 1\u001b[0;31m \u001b[0;32mimport\u001b[0m \u001b[0mmetaTrader\u001b[0m \u001b[0;32mas\u001b[0m \u001b[0mmt5\u001b[0m\u001b[0;34m\u001b[0m\u001b[0;34m\u001b[0m\u001b[0m\n\u001b[0m\u001b[1;32m      2\u001b[0m \u001b[0;32mimport\u001b[0m \u001b[0mpandas\u001b[0m \u001b[0;32mas\u001b[0m \u001b[0mpd\u001b[0m\u001b[0;34m\u001b[0m\u001b[0;34m\u001b[0m\u001b[0m\n\u001b[1;32m      3\u001b[0m \u001b[0;34m\u001b[0m\u001b[0m\n\u001b[1;32m      4\u001b[0m \u001b[0;34m\u001b[0m\u001b[0m\n\u001b[1;32m      5\u001b[0m \u001b[0;31m# function to send a market order\u001b[0m\u001b[0;34m\u001b[0m\u001b[0;34m\u001b[0m\u001b[0m\n",
            "\u001b[0;31mModuleNotFoundError\u001b[0m: No module named 'metaTrader'",
            "",
            "\u001b[0;31m---------------------------------------------------------------------------\u001b[0;32m\nNOTE: If your import is failing due to a missing package, you can\nmanually install dependencies using either !pip or !apt.\n\nTo view examples of installing some common dependencies, click the\n\"Open Examples\" button below.\n\u001b[0;31m---------------------------------------------------------------------------\u001b[0m\n"
          ],
          "errorDetails": {
            "actions": [
              {
                "action": "open_url",
                "actionText": "Open Examples",
                "url": "/notebooks/snippets/importing_libraries.ipynb"
              }
            ]
          }
        }
      ]
    },
    {
      "source": [],
      "cell_type": "code",
      "metadata": {
        "id": "BLzV9sxqAl-6"
      },
      "execution_count": null,
      "outputs": []
    },
    {
      "source": [],
      "cell_type": "code",
      "metadata": {
        "id": "yZxwGvqQBVYR"
      },
      "execution_count": null,
      "outputs": []
    },
    {
      "cell_type": "markdown",
      "source": [],
      "metadata": {
        "id": "DX5585Le_j5L"
      }
    },
    {
      "cell_type": "markdown",
      "source": [],
      "metadata": {
        "id": "JIAAEvAvCIpB"
      }
    },
    {
      "cell_type": "code",
      "source": [],
      "metadata": {
        "id": "SGFK5UDdCUXj"
      },
      "execution_count": null,
      "outputs": []
    }
  ]
}